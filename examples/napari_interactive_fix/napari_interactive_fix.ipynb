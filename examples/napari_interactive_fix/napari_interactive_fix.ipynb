{
 "cells": [
  {
   "cell_type": "code",
   "execution_count": 1,
   "metadata": {},
   "outputs": [
    {
     "name": "stdout",
     "output_type": "stream",
     "text": [
      "\n",
      "Usage:   \n",
      "  /Users/fukai/.pyenv/versions/miniconda3-4.7.12/envs/laptrack-conda/bin/python -m pip install [options] <requirement specifier> [package-index-options] ...\n",
      "  /Users/fukai/.pyenv/versions/miniconda3-4.7.12/envs/laptrack-conda/bin/python -m pip install [options] -r <requirements file> [package-index-options] ...\n",
      "  /Users/fukai/.pyenv/versions/miniconda3-4.7.12/envs/laptrack-conda/bin/python -m pip install [options] [-e] <vcs project url> ...\n",
      "  /Users/fukai/.pyenv/versions/miniconda3-4.7.12/envs/laptrack-conda/bin/python -m pip install [options] [-e] <local project path> ...\n",
      "  /Users/fukai/.pyenv/versions/miniconda3-4.7.12/envs/laptrack-conda/bin/python -m pip install [options] <archive url/path> ...\n",
      "\n",
      "no such option: -y\n",
      "Note: you may need to restart the kernel to use updated packages.\n"
     ]
    }
   ],
   "source": [
    "%pip install -y --upgrade scikit-image napari pandas numpy matplotlib laptrack"
   ]
  },
  {
   "cell_type": "markdown",
   "metadata": {},
   "source": [
    "# Initialize napari"
   ]
  },
  {
   "cell_type": "code",
   "execution_count": 2,
   "metadata": {},
   "outputs": [],
   "source": [
    "import napari\n",
    "import numpy as np\n",
    "import pandas as pd\n",
    "from IPython.display import display\n",
    "from skimage.io import imread\n",
    "from skimage.measure import regionprops_table\n",
    "\n",
    "from laptrack import LapTrack\n",
    "from laptrack.data_conversion import (convert_dataframe_to_coords,\n",
    "                                      convert_tree_to_dataframe)"
   ]
  },
  {
   "cell_type": "code",
   "execution_count": 3,
   "metadata": {},
   "outputs": [],
   "source": [
    "images = imread(\"interactive_example_data/example_images.tif\")\n",
    "labels = imread(\"interactive_example_data/example_label.tif\")"
   ]
  },
  {
   "cell_type": "code",
   "execution_count": 4,
   "metadata": {},
   "outputs": [
    {
     "data": {
      "text/plain": [
       "<Labels layer 'labels' at 0x17ad4fa90>"
      ]
     },
     "execution_count": 4,
     "metadata": {},
     "output_type": "execute_result"
    }
   ],
   "source": [
    "viewer = napari.Viewer()\n",
    "viewer.add_image(images, name=\"images\")\n",
    "viewer.add_labels(labels, name=\"labels\")"
   ]
  },
  {
   "cell_type": "markdown",
   "metadata": {},
   "source": [
    "# Calculate properties of the segmentation"
   ]
  },
  {
   "cell_type": "code",
   "execution_count": 6,
   "metadata": {},
   "outputs": [
    {
     "data": {
      "text/html": [
       "<div>\n",
       "<style scoped>\n",
       "    .dataframe tbody tr th:only-of-type {\n",
       "        vertical-align: middle;\n",
       "    }\n",
       "\n",
       "    .dataframe tbody tr th {\n",
       "        vertical-align: top;\n",
       "    }\n",
       "\n",
       "    .dataframe thead th {\n",
       "        text-align: right;\n",
       "    }\n",
       "</style>\n",
       "<table border=\"1\" class=\"dataframe\">\n",
       "  <thead>\n",
       "    <tr style=\"text-align: right;\">\n",
       "      <th></th>\n",
       "      <th>label</th>\n",
       "      <th>area</th>\n",
       "      <th>centroid-0</th>\n",
       "      <th>centroid-1</th>\n",
       "      <th>frame</th>\n",
       "    </tr>\n",
       "  </thead>\n",
       "  <tbody>\n",
       "    <tr>\n",
       "      <th>0</th>\n",
       "      <td>3</td>\n",
       "      <td>131</td>\n",
       "      <td>103.091603</td>\n",
       "      <td>195.816794</td>\n",
       "      <td>0</td>\n",
       "    </tr>\n",
       "    <tr>\n",
       "      <th>1</th>\n",
       "      <td>25</td>\n",
       "      <td>415</td>\n",
       "      <td>151.812048</td>\n",
       "      <td>15.674699</td>\n",
       "      <td>0</td>\n",
       "    </tr>\n",
       "    <tr>\n",
       "      <th>2</th>\n",
       "      <td>35</td>\n",
       "      <td>509</td>\n",
       "      <td>31.552063</td>\n",
       "      <td>43.740668</td>\n",
       "      <td>0</td>\n",
       "    </tr>\n",
       "    <tr>\n",
       "      <th>3</th>\n",
       "      <td>59</td>\n",
       "      <td>511</td>\n",
       "      <td>60.389432</td>\n",
       "      <td>76.156556</td>\n",
       "      <td>0</td>\n",
       "    </tr>\n",
       "    <tr>\n",
       "      <th>4</th>\n",
       "      <td>64</td>\n",
       "      <td>438</td>\n",
       "      <td>125.100457</td>\n",
       "      <td>21.646119</td>\n",
       "      <td>0</td>\n",
       "    </tr>\n",
       "  </tbody>\n",
       "</table>\n",
       "</div>"
      ],
      "text/plain": [
       "   label  area  centroid-0  centroid-1  frame\n",
       "0      3   131  103.091603  195.816794      0\n",
       "1     25   415  151.812048   15.674699      0\n",
       "2     35   509   31.552063   43.740668      0\n",
       "3     59   511   60.389432   76.156556      0\n",
       "4     64   438  125.100457   21.646119      0"
      ]
     },
     "metadata": {},
     "output_type": "display_data"
    }
   ],
   "source": [
    "def calc_frame_regionprops(labels):  # noqa: E302\n",
    "    dfs = []\n",
    "    for frame in range(labels.shape[0]):\n",
    "        df = pd.DataFrame(\n",
    "            regionprops_table(labels[frame], properties=[\"label\", \"area\", \"centroid\"])\n",
    "        )\n",
    "        df[\"frame\"] = frame\n",
    "        dfs.append(df)\n",
    "    return pd.concat(dfs)\n",
    "\n",
    "\n",
    "regionprops_df = calc_frame_regionprops(labels)\n",
    "display(regionprops_df.head())"
   ]
  },
  {
   "cell_type": "markdown",
   "metadata": {},
   "source": [
    "# Tracking by LapTrack"
   ]
  },
  {
   "cell_type": "markdown",
   "metadata": {},
   "source": [
    "## Creating data"
   ]
  },
  {
   "cell_type": "code",
   "execution_count": 7,
   "metadata": {},
   "outputs": [],
   "source": [
    "_coords = convert_dataframe_to_coords(\n",
    "    regionprops_df, [\"centroid-0\", \"centroid-1\", \"label\"]\n",
    ")\n",
    "coords = [c[:, :-1] for c in _coords]\n",
    "coord_labels = [c[:, -1] for c in _coords]"
   ]
  },
  {
   "cell_type": "code",
   "execution_count": 8,
   "metadata": {},
   "outputs": [
    {
     "data": {
      "text/plain": [
       "array([  3.,  25.,  35.,  59.,  64.,  65.,  68.,  78., 115., 138., 150.,\n",
       "       159., 173., 181., 194., 196., 204., 206., 224., 258., 260., 266.,\n",
       "       267., 274., 275., 276., 286., 287., 293., 309., 311., 312., 316.,\n",
       "       353., 354., 355., 356., 357., 361.])"
      ]
     },
     "execution_count": 8,
     "metadata": {},
     "output_type": "execute_result"
    }
   ],
   "source": [
    "coord_labels[0]"
   ]
  },
  {
   "cell_type": "markdown",
   "metadata": {},
   "source": [
    "## Tracking"
   ]
  },
  {
   "cell_type": "code",
   "execution_count": null,
   "metadata": {},
   "outputs": [],
   "source": [
    "lt = LapTrack(track_cost_cutoff=100**2, splitting_cost_cutoff=20**2)\n",
    "tree = lt.predict(coords)\n",
    "tracked_df, _, _ = convert_tree_to_dataframe(tree)"
   ]
  },
  {
   "cell_type": "code",
   "execution_count": null,
   "metadata": {},
   "outputs": [],
   "source": [
    "tracked_df.loc[(0, 8)]"
   ]
  },
  {
   "cell_type": "markdown",
   "metadata": {},
   "source": [
    "## Adding the tracked data to the viewer"
   ]
  },
  {
   "cell_type": "code",
   "execution_count": null,
   "metadata": {},
   "outputs": [],
   "source": [
    "_regionprops_df = regionprops_df.set_index([\"frame\", \"label\"])\n",
    "for (frame, index), row in tracked_df.iterrows():\n",
    "    label = coord_labels[frame][index]\n",
    "    _regionprops_df.loc[(frame, label), \"track_id\"] = row[\"track_id\"]\n",
    "track_label_image = np.zeros_like(labels)\n",
    "for (frame, label), row in _regionprops_df.iterrows():\n",
    "    track_label_image[frame][labels[frame] == label] = row[\"track_id\"] + 1"
   ]
  },
  {
   "cell_type": "code",
   "execution_count": null,
   "metadata": {},
   "outputs": [],
   "source": [
    "viewer.layers[\"labels\"].visible = False\n",
    "viewer.add_labels(track_label_image)"
   ]
  },
  {
   "cell_type": "markdown",
   "metadata": {},
   "source": [
    "# Manual correction"
   ]
  },
  {
   "cell_type": "markdown",
   "metadata": {},
   "source": [
    "add points for the cells validated maually (emurated)"
   ]
  },
  {
   "cell_type": "code",
   "execution_count": null,
   "metadata": {},
   "outputs": [],
   "source": [
    "manual_corrected = np.load(\"interactive_example_data/manual_corrected.npy\")\n",
    "viewer.add_points(manual_corrected, name=\"manually_validated_tracks\")"
   ]
  },
  {
   "cell_type": "code",
   "execution_count": null,
   "metadata": {},
   "outputs": [],
   "source": [
    "manual_corrected = viewer.layers[\"manually_validated_tracks\"].data.astype(np.int16)\n",
    "# you can also redraw the labels\n",
    "new_labels = viewer.layers[\"track_label_image\"].data\n",
    "# get label values at the placed points\n",
    "validated_track_labels = new_labels[tuple(manual_corrected.T)]\n",
    "validated_frames = manual_corrected[:, 0]"
   ]
  },
  {
   "cell_type": "code",
   "execution_count": null,
   "metadata": {},
   "outputs": [],
   "source": [
    "validated_points = np.array(list(zip(validated_frames, validated_track_labels)))\n",
    "validated_points = validated_points[np.argsort(validated_points[:, 0])]\n",
    "validated_ind_pairs = [\n",
    "    (((frame1, label1), (frame2, label2)))\n",
    "    for ((frame1, label1), (frame2, label2)) in zip(\n",
    "        validated_points[:-1], validated_points[1:]\n",
    "    )\n",
    "]\n",
    "validated_ind_pairs"
   ]
  },
  {
   "cell_type": "markdown",
   "metadata": {},
   "source": [
    "# Second tracking preserving manually corrected data"
   ]
  },
  {
   "cell_type": "code",
   "execution_count": null,
   "metadata": {},
   "outputs": [],
   "source": [
    "new_regionprops_df = (\n",
    "    calc_frame_regionprops(new_labels).set_index([\"frame\", \"label\"]).reset_index()\n",
    ")\n",
    "new_coords_labels = convert_dataframe_to_coords(\n",
    "    new_regionprops_df,\n",
    "    [\"centroid-0\", \"centroid-1\", \"label\"],\n",
    ")\n",
    "coord_labels = [c[:, -1] for c in new_coords_labels]\n",
    "new_coords = [c[:, :-1] for c in new_coords_labels]\n",
    "new_regionprops_df.loc[[33, 63, 95]]"
   ]
  },
  {
   "cell_type": "code",
   "execution_count": null,
   "metadata": {},
   "outputs": [],
   "source": [
    "get_frame_index_pair = lambda frame, label: (\n",
    "    frame,\n",
    "    list(coord_labels[frame]).index(label),\n",
    ")\n",
    "validated_edges = [\n",
    "    (get_frame_index_pair(frame1, label1), get_frame_index_pair(frame2, label2))\n",
    "    for ((frame1, label1), (frame2, label2)) in validated_ind_pairs\n",
    "]\n",
    "validated_edges"
   ]
  },
  {
   "cell_type": "markdown",
   "metadata": {},
   "source": [
    "pairs of the coordinates of the validated points"
   ]
  },
  {
   "cell_type": "code",
   "execution_count": null,
   "metadata": {},
   "outputs": [],
   "source": [
    "lt = LapTrack(track_cost_cutoff=100**2, splitting_cost_cutoff=20**2)\n",
    "new_tree = lt.predict(new_coords, connected_edges=validated_edges)\n",
    "new_tracked_df, _, _ = convert_tree_to_dataframe(new_tree)"
   ]
  },
  {
   "cell_type": "code",
   "execution_count": null,
   "metadata": {},
   "outputs": [],
   "source": [
    "new_track_label_image = np.zeros_like(new_labels)\n",
    "for (frame, ind), row in new_tracked_df.iterrows():\n",
    "    label = new_labels[frame] == coord_labels[frame][ind]\n",
    "    new_track_label_image[frame][label] = row[\"track_id\"] + 2\n",
    "viewer.layers[\"track_label_image\"].visible = False\n",
    "viewer.add_labels(new_track_label_image)"
   ]
  },
  {
   "cell_type": "code",
   "execution_count": null,
   "metadata": {},
   "outputs": [],
   "source": []
  }
 ],
 "metadata": {
  "kernelspec": {
   "display_name": "Python 3.10.5 64-bit ('laptrack-conda')",
   "language": "python",
   "name": "python3"
  },
  "language_info": {
   "codemirror_mode": {
    "name": "ipython",
    "version": 3
   },
   "file_extension": ".py",
   "mimetype": "text/x-python",
   "name": "python",
   "nbconvert_exporter": "python",
   "pygments_lexer": "ipython3",
   "version": "3.10.5"
  },
  "vscode": {
   "interpreter": {
    "hash": "68861002f08468e740c0e44ecbd73c8cddfe37a9fd849857930d026592051a39"
   }
  }
 },
 "nbformat": 4,
 "nbformat_minor": 2
}
