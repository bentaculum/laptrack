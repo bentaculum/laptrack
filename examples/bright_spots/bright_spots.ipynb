{
 "cells": [
  {
   "cell_type": "code",
   "execution_count": null,
   "metadata": {},
   "outputs": [],
   "source": [
    "import numpy as np\n",
    "import pandas as pd\n",
    "from skimage.feature import blob_log\n",
    "from laptrack import LapTrack\n",
    "import napari"
   ]
  },
  {
   "cell_type": "markdown",
   "id": "5a05b137",
   "metadata": {},
   "source": [
    "# Load images and show in napari"
   ]
  },
  {
   "cell_type": "code",
   "execution_count": null,
   "id": "561f75a8",
   "metadata": {},
   "outputs": [],
   "source": [
    "viewer = napari.Viewer()\n",
    "images = np.load(\"data/brownian_particles_images_with_noise.npz\")[\"images\"]\n",
    "viewer.add_image(images)"
   ]
  },
  {
   "cell_type": "markdown",
   "id": "8cfe8171",
   "metadata": {},
   "source": [
    "# Detect spots by Laplacian of Gaussian filter"
   ]
  },
  {
   "cell_type": "code",
   "execution_count": null,
   "id": "947aca04",
   "metadata": {},
   "outputs": [],
   "source": [
    "spots = []\n",
    "for frame, image in enumerate(images):\n",
    "    _spots = blob_log(image, min_sigma=1, max_sigma=3, num_sigma=3,overlap=0.5)\n",
    "    df = pd.DataFrame(_spots, columns=[\"y\",\"x\",\"sigma\"])\n",
    "    df[\"frame\"] = frame\n",
    "    spots.append(df)\n",
    "spots_df = pd.concat(spots)\n",
    "viewer.add_points(spots_df[[\"frame\",\"y\",\"x\"]], size=3, edge_color=\"yellow\", face_color=\"#ffffff00\")"
   ]
  },
  {
   "cell_type": "markdown",
   "id": "5c9b3678",
   "metadata": {},
   "source": [
    "# Track by LapTrack"
   ]
  },
  {
   "cell_type": "code",
   "execution_count": null,
   "id": "6073e926",
   "metadata": {},
   "outputs": [],
   "source": [
    "lt=LapTrack(\n",
    "    track_cost_cutoff=5**2\n",
    ")\n",
    "track_df, _, _ = lt.predict_dataframe(spots_df,[\"y\",\"x\"])\n",
    "track_df=track_df.reset_index()\n",
    "viewer.add_tracks(track_df[[\"track_id\",\"frame\",\"y\",\"x\"]])"
   ]
  },
  {
   "cell_type": "code",
   "execution_count": null,
   "id": "3448a09b",
   "metadata": {},
   "outputs": [],
   "source": []
  }
 ],
 "metadata": {
  "kernelspec": {
   "display_name": "Python 3.10.5 64-bit ('image_analysis')",
   "language": "python",
   "name": "python3"
  },
  "language_info": {
   "codemirror_mode": {
    "name": "ipython",
    "version": 3
   },
   "file_extension": ".py",
   "mimetype": "text/x-python",
   "name": "python",
   "nbconvert_exporter": "python",
   "pygments_lexer": "ipython3",
   "version": "3.10.5"
  },
  "vscode": {
   "interpreter": {
    "hash": "112c4654da1b8403c1d0efe0680f4afdb1a0816fe1d810c3856d3bd0e24d8e17"
   }
  }
 },
 "nbformat": 4,
 "nbformat_minor": 5
}
