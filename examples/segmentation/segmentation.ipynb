{
 "cells": [
  {
   "cell_type": "code",
   "execution_count": null,
   "metadata": {},
   "outputs": [],
   "source": [
    "from skimage.measure import regionprops_table\n",
    "from skimage.transform import rescale,resize\n",
    "import pandas as pd\n",
    "from laptrack import LapTrack\n",
    "import numpy as np\n",
    "import napari"
   ]
  },
  {
   "cell_type": "markdown",
   "metadata": {},
   "source": [
    "# Load images and show in napari"
   ]
  },
  {
   "cell_type": "code",
   "execution_count": null,
   "metadata": {},
   "outputs": [],
   "source": [
    "viewer = napari.Viewer()\n",
    "data = np.load(\"data/data_small.npz\")\n",
    "images=data[\"images\"]\n",
    "labels=data[\"labels\"]\n",
    "\n",
    "viewer.add_image(images)\n",
    "labels_layer=viewer.add_labels(labels)"
   ]
  },
  {
   "cell_type": "markdown",
   "metadata": {},
   "source": [
    "# Summarize regionprops"
   ]
  },
  {
   "cell_type": "code",
   "execution_count": null,
   "metadata": {},
   "outputs": [],
   "source": [
    "regionprops = []\n",
    "for frame, label in enumerate(labels):\n",
    "    df = pd.DataFrame(\n",
    "        regionprops_table(label,properties=[\"label\",\"centroid\"])    \n",
    "    )\n",
    "    df[\"frame\"]=frame\n",
    "    regionprops.append(df)\n",
    "regionprops_df = pd.concat(regionprops)"
   ]
  },
  {
   "cell_type": "markdown",
   "metadata": {},
   "source": [
    "# Track centroids by LapTrack"
   ]
  },
  {
   "cell_type": "code",
   "execution_count": null,
   "metadata": {},
   "outputs": [],
   "source": [
    "lt = LapTrack(\n",
    "    track_cost_cutoff=15**2,\n",
    "    splitting_cost_cutoff=30**2\n",
    ")\n",
    "track_df, split_df, _ = lt.predict_dataframe(\n",
    "    regionprops_df.copy(),\n",
    "    coordinate_cols=[\"centroid-0\",\"centroid-1\"],\n",
    "    only_coordinate_cols=False,\n",
    "    )\n",
    "track_df = track_df.reset_index()\n",
    "viewer.add_tracks(\n",
    "    track_df[[\"track_id\",\"frame\",\"centroid-0\",\"centroid-1\"]]\n",
    ")"
   ]
  },
  {
   "cell_type": "markdown",
   "metadata": {},
   "source": [
    "# Show clonal cells by the same colors"
   ]
  },
  {
   "cell_type": "code",
   "execution_count": null,
   "metadata": {},
   "outputs": [],
   "source": [
    "new_labels = np.zeros_like(labels)\n",
    "\n",
    "for i, row in track_df.iterrows():\n",
    "    frame=int(row[\"frame\"])\n",
    "    inds = labels[frame] == row[\"label\"]\n",
    "    new_labels[frame][inds] = int(row[\"tree_id\"])+1\n",
    "viewer.add_labels(new_labels)\n",
    "labels_layer.visible=False"
   ]
  },
  {
   "cell_type": "code",
   "execution_count": null,
   "metadata": {},
   "outputs": [],
   "source": []
  }
 ],
 "metadata": {
  "kernelspec": {
   "display_name": "Python 3.10.5 64-bit ('image_analysis')",
   "language": "python",
   "name": "python3"
  },
  "language_info": {
   "codemirror_mode": {
    "name": "ipython",
    "version": 3
   },
   "file_extension": ".py",
   "mimetype": "text/x-python",
   "name": "python",
   "nbconvert_exporter": "python",
   "pygments_lexer": "ipython3",
   "version": "3.10.5"
  },
  "orig_nbformat": 4,
  "vscode": {
   "interpreter": {
    "hash": "112c4654da1b8403c1d0efe0680f4afdb1a0816fe1d810c3856d3bd0e24d8e17"
   }
  }
 },
 "nbformat": 4,
 "nbformat_minor": 2
}
