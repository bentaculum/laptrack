{
 "cells": [
  {
   "cell_type": "code",
   "execution_count": null,
   "metadata": {},
   "outputs": [],
   "source": [
    "from glob import glob\n",
    "from xmltodict import parse\n",
    "import networkx as nx\n",
    "import pandas as pd\n",
    "from matplotlib import pyplot as plt"
   ]
  },
  {
   "cell_type": "code",
   "execution_count": null,
   "metadata": {},
   "outputs": [],
   "source": [
    "track_files = glob(\"../*.xml\")"
   ]
  },
  {
   "cell_type": "code",
   "execution_count": null,
   "metadata": {},
   "outputs": [],
   "source": [
    "for track_file in track_files:\n",
    "    with open(track_file,\"r\") as f:\n",
    "        track_xml=parse(\"\\n\".join(f.readlines()))\n",
    "    spot_keys=[\"@ID\",\"@FRAME\",\"@POSITION_X\",\"@POSITION_Y\"]\n",
    "    spotss=list(map(lambda x: x[\"Spot\"] if isinstance(x[\"Spot\"],list) else [x[\"Spot\"]],\n",
    "        track_xml[\"TrackMate\"][\"Model\"]['AllSpots']['SpotsInFrame']\n",
    "    ))\n",
    "    spots_df=pd.DataFrame.from_records(sum(spotss,[]))[spot_keys]\n",
    "    spots_df.columns=list(map(lambda x:x.replace(\"@\",\"\").lower(),spots_df.columns))\n",
    "    spots_df.to_csv(track_file.replace(\".xml\",\"_spots.csv\"))\n",
    "\n",
    "    track_ids=list(map(lambda x:x[\"@TRACK_ID\"],\n",
    "        track_xml[\"TrackMate\"][\"Model\"][\"FilteredTracks\"][\"TrackID\"]))\n",
    "    id_edgess = list(map(lambda x: (x[\"@TRACK_ID\"],x[\"Edge\"]) \n",
    "                            if isinstance(x[\"Edge\"],list) \n",
    "                            else (x[\"@TRACK_ID\"],[x[\"Edge\"]]),\n",
    "        filter(lambda x : x[\"@TRACK_ID\"] in track_ids,\n",
    "            track_xml[\"TrackMate\"][\"Model\"][\"AllTracks\"][\"Track\"]\n",
    "        )))\n",
    "    edge_dfs=[]\n",
    "    for track_id,edges in id_edgess:\n",
    "        edge_keys=[\"@SPOT_SOURCE_ID\",\"@SPOT_TARGET_ID\",\"@LINK_COST\"]\n",
    "        edge_df=pd.DataFrame.from_records(edges)[edge_keys]\n",
    "        edge_df[\"track_id\"]=track_id\n",
    "        edge_dfs.append(edge_df)\n",
    "    edge_df=pd.concat(edge_dfs)\n",
    "    edge_df.columns=list(map(lambda x:x.replace(\"@\",\"\").lower(),edge_df.columns))\n",
    "    edge_df.to_csv(track_file.replace(\".xml\",\"_edges.csv\"))\n",
    "\n",
    "    edge_df2=pd.merge(edge_df,\n",
    "        spots_df.add_prefix(\"source_\"),\n",
    "        left_on=\"spot_source_id\",\n",
    "        right_on=\"source_id\")\n",
    "    assert len(edge_df) == len(edge_df2)\n",
    "    edge_df2=pd.merge(edge_df2,\n",
    "            spots_df.add_prefix(\"target_\"),\n",
    "            left_on=\"spot_target_id\",\n",
    "            right_on=\"target_id\")\n",
    "    assert len(edge_df) == len(edge_df2)\n",
    "    edge_df2.columns=list(map(lambda x:x.replace(\"@\",\"\").lower(),edge_df2.columns))\n",
    "    edge_df2=edge_df2.drop(['source_id','target_id'],axis=1)\n",
    "\n",
    "    edge_df2.to_csv(track_file.replace(\".xml\",\".csv\"))"
   ]
  },
  {
   "cell_type": "code",
   "execution_count": null,
   "metadata": {},
   "outputs": [],
   "source": [
    "for track_file in track_files:\n",
    "    edge_df2=pd.read_csv(track_file.replace(\".xml\",\".csv\"))\n",
    "    plt.scatter(edge_df2[\"source_position_x\"],\n",
    "                edge_df2[\"source_position_y\"],\n",
    "                c=edge_df2[\"track_id\"])\n",
    "    for i, row in edge_df2.iterrows():\n",
    "        plt.plot([edge_df2[\"source_position_x\"],edge_df2[\"target_position_x\"]],\n",
    "                 [edge_df2[\"source_position_y\"],edge_df2[\"target_position_y\"]],\"-k\")\n",
    "    plt.show()"
   ]
  },
  {
   "cell_type": "code",
   "execution_count": null,
   "metadata": {},
   "outputs": [],
   "source": []
  },
  {
   "cell_type": "code",
   "execution_count": null,
   "metadata": {},
   "outputs": [],
   "source": []
  }
 ],
 "metadata": {
  "kernelspec": {
   "display_name": "Python 3.10.4 ('.venv': poetry)",
   "language": "python",
   "name": "python3"
  },
  "language_info": {
   "codemirror_mode": {
    "name": "ipython",
    "version": 3
   },
   "file_extension": ".py",
   "mimetype": "text/x-python",
   "name": "python",
   "nbconvert_exporter": "python",
   "pygments_lexer": "ipython3",
   "version": "3.10.4"
  },
  "orig_nbformat": 4,
  "vscode": {
   "interpreter": {
    "hash": "99ef1bdfb5c68552829b3c1261e7b571713389197be0a629c40cd382d20dbab8"
   }
  }
 },
 "nbformat": 4,
 "nbformat_minor": 2
}
