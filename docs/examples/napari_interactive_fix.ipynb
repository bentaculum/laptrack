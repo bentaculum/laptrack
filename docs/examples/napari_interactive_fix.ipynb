{
 "cells": [
  {
   "cell_type": "markdown",
   "metadata": {},
   "source": [
    "# Tracking preserving manually annotated edges"
   ]
  },
  {
   "cell_type": "code",
   "execution_count": null,
   "metadata": {},
   "outputs": [],
   "source": [
    "%pip install -q --upgrade -r requirements.txt"
   ]
  },
  {
   "cell_type": "markdown",
   "metadata": {},
   "source": [
    "## Initialize napari"
   ]
  },
  {
   "cell_type": "code",
   "execution_count": 2,
   "metadata": {},
   "outputs": [],
   "source": [
    "import napari\n",
    "import numpy as np\n",
    "import pandas as pd\n",
    "from IPython.display import display\n",
    "from skimage.io import imread\n",
    "from skimage.measure import regionprops_table\n",
    "\n",
    "from laptrack import LapTrack"
   ]
  },
  {
   "cell_type": "code",
   "execution_count": 3,
   "metadata": {},
   "outputs": [],
   "source": [
    "images = imread(\"interactive_example_data/example_images.tif\")\n",
    "labels = imread(\"interactive_example_data/example_label.tif\")"
   ]
  },
  {
   "cell_type": "code",
   "execution_count": 4,
   "metadata": {},
   "outputs": [
    {
     "data": {
      "text/plain": [
       "<Labels layer 'labels' at 0x17da3f3a0>"
      ]
     },
     "execution_count": 4,
     "metadata": {},
     "output_type": "execute_result"
    }
   ],
   "source": [
    "viewer = napari.Viewer()\n",
    "viewer.add_image(images, name=\"images\")\n",
    "viewer.add_labels(labels, name=\"labels\")"
   ]
  },
  {
   "cell_type": "markdown",
   "metadata": {},
   "source": [
    "## Calculate properties of the segmentation"
   ]
  },
  {
   "cell_type": "code",
   "execution_count": 5,
   "metadata": {},
   "outputs": [
    {
     "data": {
      "text/html": [
       "<div>\n",
       "<style scoped>\n",
       "    .dataframe tbody tr th:only-of-type {\n",
       "        vertical-align: middle;\n",
       "    }\n",
       "\n",
       "    .dataframe tbody tr th {\n",
       "        vertical-align: top;\n",
       "    }\n",
       "\n",
       "    .dataframe thead th {\n",
       "        text-align: right;\n",
       "    }\n",
       "</style>\n",
       "<table border=\"1\" class=\"dataframe\">\n",
       "  <thead>\n",
       "    <tr style=\"text-align: right;\">\n",
       "      <th></th>\n",
       "      <th>label</th>\n",
       "      <th>centroid-0</th>\n",
       "      <th>centroid-1</th>\n",
       "      <th>frame</th>\n",
       "    </tr>\n",
       "  </thead>\n",
       "  <tbody>\n",
       "    <tr>\n",
       "      <th>0</th>\n",
       "      <td>3</td>\n",
       "      <td>103.091603</td>\n",
       "      <td>195.816794</td>\n",
       "      <td>0</td>\n",
       "    </tr>\n",
       "    <tr>\n",
       "      <th>1</th>\n",
       "      <td>25</td>\n",
       "      <td>151.812048</td>\n",
       "      <td>15.674699</td>\n",
       "      <td>0</td>\n",
       "    </tr>\n",
       "    <tr>\n",
       "      <th>2</th>\n",
       "      <td>35</td>\n",
       "      <td>31.552063</td>\n",
       "      <td>43.740668</td>\n",
       "      <td>0</td>\n",
       "    </tr>\n",
       "    <tr>\n",
       "      <th>3</th>\n",
       "      <td>59</td>\n",
       "      <td>60.389432</td>\n",
       "      <td>76.156556</td>\n",
       "      <td>0</td>\n",
       "    </tr>\n",
       "    <tr>\n",
       "      <th>4</th>\n",
       "      <td>64</td>\n",
       "      <td>125.100457</td>\n",
       "      <td>21.646119</td>\n",
       "      <td>0</td>\n",
       "    </tr>\n",
       "  </tbody>\n",
       "</table>\n",
       "</div>"
      ],
      "text/plain": [
       "   label  centroid-0  centroid-1  frame\n",
       "0      3  103.091603  195.816794      0\n",
       "1     25  151.812048   15.674699      0\n",
       "2     35   31.552063   43.740668      0\n",
       "3     59   60.389432   76.156556      0\n",
       "4     64  125.100457   21.646119      0"
      ]
     },
     "metadata": {},
     "output_type": "display_data"
    }
   ],
   "source": [
    "def calc_frame_regionprops(labels):  # noqa: E302\n",
    "    dfs = []\n",
    "    for frame in range(labels.shape[0]):\n",
    "        df = pd.DataFrame(\n",
    "            regionprops_table(labels[frame], properties=[\"label\", \"centroid\"])\n",
    "        )\n",
    "        df[\"frame\"] = frame\n",
    "        dfs.append(df)\n",
    "    return pd.concat(dfs)\n",
    "\n",
    "\n",
    "regionprops_df = calc_frame_regionprops(labels)\n",
    "display(regionprops_df.head())"
   ]
  },
  {
   "cell_type": "markdown",
   "metadata": {},
   "source": [
    "# Tracking by LapTrack"
   ]
  },
  {
   "cell_type": "markdown",
   "metadata": {},
   "source": [
    "## Tracking"
   ]
  },
  {
   "cell_type": "code",
   "execution_count": 6,
   "metadata": {},
   "outputs": [],
   "source": [
    "lt = LapTrack(\n",
    "    track_cost_cutoff=100**2, \n",
    "    splitting_cost_cutoff=20**2\n",
    ")\n",
    "track_df, split_df, merge_df = lt.predict_dataframe(\n",
    "    regionprops_df,\n",
    "    coordinate_cols=[\"centroid-0\",\"centroid-1\"],\n",
    "    only_coordinate_cols=False\n",
    ")"
   ]
  },
  {
   "cell_type": "code",
   "execution_count": 8,
   "metadata": {},
   "outputs": [
    {
     "data": {
      "text/html": [
       "<div>\n",
       "<style scoped>\n",
       "    .dataframe tbody tr th:only-of-type {\n",
       "        vertical-align: middle;\n",
       "    }\n",
       "\n",
       "    .dataframe tbody tr th {\n",
       "        vertical-align: top;\n",
       "    }\n",
       "\n",
       "    .dataframe thead th {\n",
       "        text-align: right;\n",
       "    }\n",
       "</style>\n",
       "<table border=\"1\" class=\"dataframe\">\n",
       "  <thead>\n",
       "    <tr style=\"text-align: right;\">\n",
       "      <th></th>\n",
       "      <th></th>\n",
       "      <th>label</th>\n",
       "      <th>centroid-0</th>\n",
       "      <th>centroid-1</th>\n",
       "      <th>frame_y</th>\n",
       "      <th>tree_id</th>\n",
       "      <th>track_id</th>\n",
       "    </tr>\n",
       "    <tr>\n",
       "      <th>frame</th>\n",
       "      <th>index</th>\n",
       "      <th></th>\n",
       "      <th></th>\n",
       "      <th></th>\n",
       "      <th></th>\n",
       "      <th></th>\n",
       "      <th></th>\n",
       "    </tr>\n",
       "  </thead>\n",
       "  <tbody>\n",
       "    <tr>\n",
       "      <th rowspan=\"5\" valign=\"top\">0</th>\n",
       "      <th>0</th>\n",
       "      <td>3</td>\n",
       "      <td>103.091603</td>\n",
       "      <td>195.816794</td>\n",
       "      <td>0</td>\n",
       "      <td>0</td>\n",
       "      <td>0</td>\n",
       "    </tr>\n",
       "    <tr>\n",
       "      <th>1</th>\n",
       "      <td>25</td>\n",
       "      <td>151.812048</td>\n",
       "      <td>15.674699</td>\n",
       "      <td>0</td>\n",
       "      <td>1</td>\n",
       "      <td>1</td>\n",
       "    </tr>\n",
       "    <tr>\n",
       "      <th>2</th>\n",
       "      <td>35</td>\n",
       "      <td>31.552063</td>\n",
       "      <td>43.740668</td>\n",
       "      <td>0</td>\n",
       "      <td>2</td>\n",
       "      <td>2</td>\n",
       "    </tr>\n",
       "    <tr>\n",
       "      <th>3</th>\n",
       "      <td>59</td>\n",
       "      <td>60.389432</td>\n",
       "      <td>76.156556</td>\n",
       "      <td>0</td>\n",
       "      <td>3</td>\n",
       "      <td>3</td>\n",
       "    </tr>\n",
       "    <tr>\n",
       "      <th>4</th>\n",
       "      <td>64</td>\n",
       "      <td>125.100457</td>\n",
       "      <td>21.646119</td>\n",
       "      <td>0</td>\n",
       "      <td>4</td>\n",
       "      <td>4</td>\n",
       "    </tr>\n",
       "    <tr>\n",
       "      <th>...</th>\n",
       "      <th>...</th>\n",
       "      <td>...</td>\n",
       "      <td>...</td>\n",
       "      <td>...</td>\n",
       "      <td>...</td>\n",
       "      <td>...</td>\n",
       "      <td>...</td>\n",
       "    </tr>\n",
       "    <tr>\n",
       "      <th rowspan=\"5\" valign=\"top\">5</th>\n",
       "      <th>45</th>\n",
       "      <td>441</td>\n",
       "      <td>197.130952</td>\n",
       "      <td>127.000000</td>\n",
       "      <td>5</td>\n",
       "      <td>22</td>\n",
       "      <td>22</td>\n",
       "    </tr>\n",
       "    <tr>\n",
       "      <th>46</th>\n",
       "      <td>443</td>\n",
       "      <td>95.888179</td>\n",
       "      <td>48.552716</td>\n",
       "      <td>5</td>\n",
       "      <td>42</td>\n",
       "      <td>54</td>\n",
       "    </tr>\n",
       "    <tr>\n",
       "      <th>47</th>\n",
       "      <td>456</td>\n",
       "      <td>25.483645</td>\n",
       "      <td>40.707944</td>\n",
       "      <td>5</td>\n",
       "      <td>2</td>\n",
       "      <td>2</td>\n",
       "    </tr>\n",
       "    <tr>\n",
       "      <th>48</th>\n",
       "      <td>457</td>\n",
       "      <td>32.871560</td>\n",
       "      <td>68.052752</td>\n",
       "      <td>5</td>\n",
       "      <td>19</td>\n",
       "      <td>19</td>\n",
       "    </tr>\n",
       "    <tr>\n",
       "      <th>49</th>\n",
       "      <td>459</td>\n",
       "      <td>4.693182</td>\n",
       "      <td>191.176136</td>\n",
       "      <td>5</td>\n",
       "      <td>11</td>\n",
       "      <td>58</td>\n",
       "    </tr>\n",
       "  </tbody>\n",
       "</table>\n",
       "<p>273 rows × 6 columns</p>\n",
       "</div>"
      ],
      "text/plain": [
       "             label  centroid-0  centroid-1  frame_y  tree_id  track_id\n",
       "frame index                                                           \n",
       "0     0          3  103.091603  195.816794        0        0         0\n",
       "      1         25  151.812048   15.674699        0        1         1\n",
       "      2         35   31.552063   43.740668        0        2         2\n",
       "      3         59   60.389432   76.156556        0        3         3\n",
       "      4         64  125.100457   21.646119        0        4         4\n",
       "...            ...         ...         ...      ...      ...       ...\n",
       "5     45       441  197.130952  127.000000        5       22        22\n",
       "      46       443   95.888179   48.552716        5       42        54\n",
       "      47       456   25.483645   40.707944        5        2         2\n",
       "      48       457   32.871560   68.052752        5       19        19\n",
       "      49       459    4.693182  191.176136        5       11        58\n",
       "\n",
       "[273 rows x 6 columns]"
      ]
     },
     "execution_count": 8,
     "metadata": {},
     "output_type": "execute_result"
    }
   ],
   "source": [
    "track_df"
   ]
  },
  {
   "cell_type": "markdown",
   "metadata": {},
   "source": [
    "## Adding the tracked data to the viewer"
   ]
  },
  {
   "cell_type": "code",
   "execution_count": 9,
   "metadata": {},
   "outputs": [],
   "source": [
    "track_label_image = np.zeros_like(labels)\n",
    "for (frame, _), row in track_df.iterrows():\n",
    "    track_label_image[frame][labels[frame] == row[\"label\"]] = row[\"track_id\"] + 1"
   ]
  },
  {
   "cell_type": "code",
   "execution_count": 10,
   "metadata": {},
   "outputs": [
    {
     "data": {
      "text/plain": [
       "<Labels layer 'track_label_image' at 0x15c5b9060>"
      ]
     },
     "execution_count": 10,
     "metadata": {},
     "output_type": "execute_result"
    }
   ],
   "source": [
    "viewer.layers[\"labels\"].visible = False\n",
    "viewer.add_labels(track_label_image)"
   ]
  },
  {
   "cell_type": "markdown",
   "metadata": {},
   "source": [
    "# Manual correction"
   ]
  },
  {
   "cell_type": "markdown",
   "metadata": {},
   "source": [
    "add points for the cells validated maually (emurated)"
   ]
  },
  {
   "cell_type": "code",
   "execution_count": 11,
   "metadata": {},
   "outputs": [
    {
     "data": {
      "text/plain": [
       "<Points layer 'manually_validated_tracks' at 0x11869f430>"
      ]
     },
     "execution_count": 11,
     "metadata": {},
     "output_type": "execute_result"
    }
   ],
   "source": [
    "manual_corrected = np.load(\"interactive_example_data/manual_corrected.npy\")\n",
    "viewer.add_points(manual_corrected, name=\"manually_validated_tracks\")"
   ]
  },
  {
   "cell_type": "code",
   "execution_count": 12,
   "metadata": {},
   "outputs": [],
   "source": [
    "manual_corrected = viewer.layers[\"manually_validated_tracks\"].data.astype(np.int16)\n",
    "# you can also redraw the labels\n",
    "new_labels = viewer.layers[\"track_label_image\"].data\n",
    "# get label values at the placed points\n",
    "validated_track_labels = new_labels[tuple(manual_corrected.T)]\n",
    "validated_frames = manual_corrected[:, 0]"
   ]
  },
  {
   "cell_type": "code",
   "execution_count": 13,
   "metadata": {},
   "outputs": [
    {
     "data": {
      "text/plain": [
       "[((0, 34), (1, 34)),\n",
       " ((1, 34), (2, 6)),\n",
       " ((2, 6), (3, 4)),\n",
       " ((3, 4), (4, 9)),\n",
       " ((4, 9), (5, 9))]"
      ]
     },
     "execution_count": 13,
     "metadata": {},
     "output_type": "execute_result"
    }
   ],
   "source": [
    "validated_points = np.array(list(zip(validated_frames, validated_track_labels)))\n",
    "validated_points = validated_points[np.argsort(validated_points[:, 0])]\n",
    "validated_ind_pairs = [\n",
    "    (((frame1, label1), (frame2, label2)))\n",
    "    for ((frame1, label1), (frame2, label2)) in zip(\n",
    "        validated_points[:-1], validated_points[1:]\n",
    "    )\n",
    "]\n",
    "validated_ind_pairs"
   ]
  },
  {
   "cell_type": "markdown",
   "metadata": {},
   "source": [
    "# Second tracking preserving manually corrected data"
   ]
  },
  {
   "cell_type": "code",
   "execution_count": 14,
   "metadata": {},
   "outputs": [
    {
     "data": {
      "text/html": [
       "<div>\n",
       "<style scoped>\n",
       "    .dataframe tbody tr th:only-of-type {\n",
       "        vertical-align: middle;\n",
       "    }\n",
       "\n",
       "    .dataframe tbody tr th {\n",
       "        vertical-align: top;\n",
       "    }\n",
       "\n",
       "    .dataframe thead th {\n",
       "        text-align: right;\n",
       "    }\n",
       "</style>\n",
       "<table border=\"1\" class=\"dataframe\">\n",
       "  <thead>\n",
       "    <tr style=\"text-align: right;\">\n",
       "      <th></th>\n",
       "      <th>frame</th>\n",
       "      <th>label</th>\n",
       "      <th>centroid-0</th>\n",
       "      <th>centroid-1</th>\n",
       "    </tr>\n",
       "  </thead>\n",
       "  <tbody>\n",
       "    <tr>\n",
       "      <th>33</th>\n",
       "      <td>0</td>\n",
       "      <td>34</td>\n",
       "      <td>108.448276</td>\n",
       "      <td>108.586207</td>\n",
       "    </tr>\n",
       "    <tr>\n",
       "      <th>63</th>\n",
       "      <td>1</td>\n",
       "      <td>28</td>\n",
       "      <td>119.007673</td>\n",
       "      <td>89.751918</td>\n",
       "    </tr>\n",
       "    <tr>\n",
       "      <th>95</th>\n",
       "      <td>2</td>\n",
       "      <td>14</td>\n",
       "      <td>131.883281</td>\n",
       "      <td>126.189274</td>\n",
       "    </tr>\n",
       "  </tbody>\n",
       "</table>\n",
       "</div>"
      ],
      "text/plain": [
       "    frame  label  centroid-0  centroid-1\n",
       "33      0     34  108.448276  108.586207\n",
       "63      1     28  119.007673   89.751918\n",
       "95      2     14  131.883281  126.189274"
      ]
     },
     "execution_count": 14,
     "metadata": {},
     "output_type": "execute_result"
    }
   ],
   "source": [
    "new_regionprops_df = (\n",
    "    calc_frame_regionprops(new_labels).set_index([\"frame\", \"label\"]).reset_index()\n",
    ")\n",
    "new_regionprops_df.loc[[33, 63, 95]]"
   ]
  },
  {
   "cell_type": "code",
   "execution_count": null,
   "metadata": {},
   "outputs": [],
   "source": [
    "get_frame_index_pair = lambda frame, label: (\n",
    "    frame,\n",
    "    list(coord_labels[frame]).index(label),\n",
    ")\n",
    "validated_edges = [\n",
    "    (get_frame_index_pair(frame1, label1), get_frame_index_pair(frame2, label2))\n",
    "    for ((frame1, label1), (frame2, label2)) in validated_ind_pairs\n",
    "]\n",
    "validated_edges"
   ]
  },
  {
   "cell_type": "markdown",
   "metadata": {},
   "source": [
    "pairs of the coordinates of the validated points"
   ]
  },
  {
   "cell_type": "code",
   "execution_count": null,
   "metadata": {},
   "outputs": [],
   "source": [
    "lt = LapTrack(track_cost_cutoff=100**2, splitting_cost_cutoff=20**2)\n",
    "new_tree = lt.predict(new_coords, connected_edges=validated_edges)\n",
    "new_tracked_df, _, _ = convert_tree_to_dataframe(new_tree)"
   ]
  },
  {
   "cell_type": "code",
   "execution_count": null,
   "metadata": {},
   "outputs": [],
   "source": [
    "new_track_label_image = np.zeros_like(new_labels)\n",
    "for (frame, ind), row in new_tracked_df.iterrows():\n",
    "    label = new_labels[frame] == coord_labels[frame][ind]\n",
    "    new_track_label_image[frame][label] = row[\"track_id\"] + 2\n",
    "viewer.layers[\"track_label_image\"].visible = False\n",
    "viewer.add_labels(new_track_label_image)"
   ]
  },
  {
   "cell_type": "code",
   "execution_count": null,
   "metadata": {},
   "outputs": [],
   "source": []
  }
 ],
 "metadata": {
  "kernelspec": {
   "display_name": "Python 3.10.5 64-bit ('image_analysis')",
   "language": "python",
   "name": "python3"
  },
  "language_info": {
   "codemirror_mode": {
    "name": "ipython",
    "version": 3
   },
   "file_extension": ".py",
   "mimetype": "text/x-python",
   "name": "python",
   "nbconvert_exporter": "python",
   "pygments_lexer": "ipython3",
   "version": "3.10.5"
  },
  "vscode": {
   "interpreter": {
    "hash": "112c4654da1b8403c1d0efe0680f4afdb1a0816fe1d810c3856d3bd0e24d8e17"
   }
  }
 },
 "nbformat": 4,
 "nbformat_minor": 2
}
